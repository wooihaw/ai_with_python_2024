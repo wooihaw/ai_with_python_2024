{
  "cells": [
    {
      "cell_type": "markdown",
      "metadata": {
        "id": "view-in-github",
        "colab_type": "text"
      },
      "source": [
        "<a href=\"https://colab.research.google.com/github/wooihaw/ai_with_python_2024/blob/main/handson_3a.ipynb\" target=\"_parent\"><img src=\"https://colab.research.google.com/assets/colab-badge.svg\" alt=\"Open In Colab\"/></a>"
      ]
    },
    {
      "cell_type": "markdown",
      "metadata": {
        "id": "DUtXNFhKcYGs"
      },
      "source": [
        "## Hands-on 3a\n",
        "#### This hands-on explores the encoding of categorical data and data imputation"
      ]
    },
    {
      "cell_type": "code",
      "execution_count": null,
      "metadata": {
        "id": "-cSETQyGcYGt"
      },
      "outputs": [],
      "source": [
        "# Initialization\n",
        "%matplotlib inline\n",
        "from warnings import filterwarnings\n",
        "filterwarnings('ignore')"
      ]
    },
    {
      "cell_type": "code",
      "execution_count": null,
      "metadata": {
        "id": "_d1qfchTcYGu"
      },
      "outputs": [],
      "source": [
        "# Load libraries\n",
        "import numpy as np\n",
        "import pandas as pd\n",
        "from sklearn.model_selection import train_test_split as split\n",
        "from sklearn.neighbors import KNeighborsClassifier"
      ]
    },
    {
      "cell_type": "code",
      "execution_count": null,
      "metadata": {
        "id": "FLokHX2FcYGv"
      },
      "outputs": [],
      "source": [
        "# Load dataset from csv file and show the first 5 rows of data\n",
        "df = pd.read_csv(\"https://raw.githubusercontent.com/wooihaw/ai_with_python_2024/main/income.csv\")\n",
        "df.head()"
      ]
    },
    {
      "cell_type": "markdown",
      "metadata": {
        "id": "m2d1l6tmcYGv"
      },
      "source": [
        "**To do:**\n",
        "- Check the number of rows and columns using info()\n",
        "- Print the number of duplicated rows using duplicated().sum()"
      ]
    },
    {
      "cell_type": "code",
      "execution_count": null,
      "metadata": {
        "id": "eQZLW6qicYGv"
      },
      "outputs": [],
      "source": []
    },
    {
      "cell_type": "markdown",
      "metadata": {
        "id": "q0jU-cTfcYGw"
      },
      "source": [
        "**To do:**\n",
        "- Remove duplicated rows if there are any by using drop_duplicates()\n",
        "- Check the number of remaining rows using info()"
      ]
    },
    {
      "cell_type": "code",
      "execution_count": null,
      "metadata": {
        "id": "GSlP1nDPcYGw"
      },
      "outputs": [],
      "source": []
    },
    {
      "cell_type": "markdown",
      "metadata": {
        "id": "Tvql0aA1cYGw"
      },
      "source": [
        "**To do:**\n",
        "- Check the number of missing values for each column using isna().sum()"
      ]
    },
    {
      "cell_type": "code",
      "execution_count": null,
      "metadata": {
        "id": "NcIFuOdncYGx"
      },
      "outputs": [],
      "source": []
    },
    {
      "cell_type": "markdown",
      "metadata": {
        "id": "wNiouCctcYGx"
      },
      "source": [
        "**To do:**\n",
        "- Calculate descriptive statistics using describe()"
      ]
    },
    {
      "cell_type": "code",
      "execution_count": null,
      "metadata": {
        "id": "LxyUeNJGcYGx"
      },
      "outputs": [],
      "source": []
    },
    {
      "cell_type": "markdown",
      "metadata": {
        "id": "a71vHT4BcYGx"
      },
      "source": [
        "**To do:**\n",
        "- Replace missing values with NaN using replace()\n",
        "- Check the number of missing values for each column using isna().sum()\n",
        "- Print the first 5 rows of the resulting dataframe (df) using head()"
      ]
    },
    {
      "cell_type": "code",
      "execution_count": null,
      "metadata": {
        "id": "3jhyGq3UcYGx"
      },
      "outputs": [],
      "source": []
    },
    {
      "cell_type": "markdown",
      "metadata": {
        "id": "4zUzhZZwcYGy"
      },
      "source": [
        "**To do:**\n",
        "- Check and print the unique values in the \"Education\" column using unique()"
      ]
    },
    {
      "cell_type": "code",
      "execution_count": null,
      "metadata": {
        "id": "mLc6vgURcYGy"
      },
      "outputs": [],
      "source": []
    },
    {
      "cell_type": "markdown",
      "metadata": {
        "id": "W6qlSVkvcYGy"
      },
      "source": [
        "**To do:**\n",
        "- Define mapping for ordinal data using a Python dictionary\n",
        "- Encode ordinal data using map().\n",
        "- Print the first 5 rows of the resulting dataframe using head()."
      ]
    },
    {
      "cell_type": "code",
      "execution_count": null,
      "metadata": {
        "id": "GFoJmHArcYGy"
      },
      "outputs": [],
      "source": []
    },
    {
      "cell_type": "markdown",
      "metadata": {
        "id": "BlhmXhDVcYGy"
      },
      "source": [
        "**To do:**\n",
        "- Use pd.get_dummies() to encode nominal data using one-hot encoding and store the resulting dataframe in df1.\n",
        "- Print first 5 rows of df1 and verify that the resulting dataframe is correct by using head()."
      ]
    },
    {
      "cell_type": "code",
      "execution_count": null,
      "metadata": {
        "id": "JO_HJJYUcYGy"
      },
      "outputs": [],
      "source": []
    },
    {
      "cell_type": "markdown",
      "metadata": {
        "id": "Wi8wRc5vcYGy"
      },
      "source": [
        "**To do:**\n",
        "- Rectify the problem in the previous step using str.upper()\n",
        "- Use pd.get_dummies() to encode nominal data using one-hot encoding and store the resulting dataframe in df2.\n",
        "- Print the first 5 rows of df2."
      ]
    },
    {
      "cell_type": "code",
      "execution_count": null,
      "metadata": {
        "id": "JeHwY-5DcYGy"
      },
      "outputs": [],
      "source": []
    },
    {
      "cell_type": "markdown",
      "metadata": {
        "id": "xHeY8nNMcYGz"
      },
      "source": [
        "**To do:**\n",
        "- Impute missing data with median value of the column using fillna()\n",
        "- Check the number of missing values for each column using isna().sum()"
      ]
    },
    {
      "cell_type": "code",
      "execution_count": null,
      "metadata": {
        "id": "1ldbZhfOcYGz"
      },
      "outputs": [],
      "source": []
    },
    {
      "cell_type": "code",
      "source": [
        "# Save preprocessed data to csv file\n",
        "df2.to_csv(\"income_processed.csv\", index=False)"
      ],
      "metadata": {
        "id": "FSpbzN2xdzre"
      },
      "execution_count": null,
      "outputs": []
    }
  ],
  "metadata": {
    "kernelspec": {
      "display_name": "Python 3",
      "language": "python",
      "name": "python3"
    },
    "language_info": {
      "codemirror_mode": {
        "name": "ipython",
        "version": 3
      },
      "file_extension": ".py",
      "mimetype": "text/x-python",
      "name": "python",
      "nbconvert_exporter": "python",
      "pygments_lexer": "ipython3",
      "version": "3.8.10"
    },
    "colab": {
      "provenance": [],
      "include_colab_link": true
    }
  },
  "nbformat": 4,
  "nbformat_minor": 0
}