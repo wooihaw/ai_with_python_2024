{
 "cells": [
  {
   "cell_type": "markdown",
   "id": "20551543",
   "metadata": {},
   "source": [
    "## Hands-on 4b\n",
    "#### Build and compare multiple classification models to predict the survivality of the Titanic passengers based on the data pre-processed in Hands-on 3b."
   ]
  },
  {
   "cell_type": "code",
   "execution_count": null,
   "id": "4f20619f",
   "metadata": {},
   "outputs": [],
   "source": [
    "# Initialization\n",
    "%matplotlib inline\n",
    "from warnings import filterwarnings\n",
    "filterwarnings('ignore')"
   ]
  },
  {
   "cell_type": "code",
   "execution_count": null,
   "id": "a589516f",
   "metadata": {},
   "outputs": [],
   "source": [
    "# Import libraries\n",
    "from pandas import read_csv\n",
    "from sklearn.model_selection import train_test_split as split, KFold, GridSearchCV\n",
    "from sklearn.tree import DecisionTreeClassifier"
   ]
  },
  {
   "cell_type": "code",
   "execution_count": null,
   "id": "8d8dd45c",
   "metadata": {},
   "outputs": [],
   "source": [
    "# Read data from csv file\n",
    "df = read_csv(\"https://raw.githubusercontent.com/wooihaw/ai_with_python_2024/main/titanic_processed.csv\")\n",
    "df.sample(5)"
   ]
  },
  {
   "cell_type": "markdown",
   "id": "29fc4ef4",
   "metadata": {},
   "source": [
    "**To do:**\n",
    "- Store the features as variable X and targets as variable y\n",
    "- Split the features and targets into training and testing sets"
   ]
  },
  {
   "cell_type": "code",
   "execution_count": null,
   "id": "ff8c33fb",
   "metadata": {},
   "outputs": [],
   "source": []
  },
  {
   "cell_type": "markdown",
   "id": "a3ffac52",
   "metadata": {},
   "source": [
    "**To do:**\n",
    "- Evaluate the performance of Logistic Regression, k-Nearest Neighbors, Decision Trees and Random Forest classifiers on the training set (using the default hyperparameter values) using 5-fold cross validation"
   ]
  },
  {
   "cell_type": "code",
   "execution_count": null,
   "id": "76c5a1ce",
   "metadata": {},
   "outputs": [],
   "source": []
  },
  {
   "cell_type": "markdown",
   "id": "e611a458-8f69-43e7-99a8-7c60d9726e1c",
   "metadata": {},
   "source": [
    "**To do:**\n",
    "- Train the best performing classifiers based on the above evaluation and evaluate its performance on the test set"
   ]
  },
  {
   "cell_type": "code",
   "execution_count": null,
   "id": "36c7beb4-3439-4a4a-aa8d-cba1f1defb70",
   "metadata": {},
   "outputs": [],
   "source": []
  }
 ],
 "metadata": {
  "kernelspec": {
   "display_name": "Python 3",
   "language": "python",
   "name": "python3"
  },
  "language_info": {
   "codemirror_mode": {
    "name": "ipython",
    "version": 3
   },
   "file_extension": ".py",
   "mimetype": "text/x-python",
   "name": "python",
   "nbconvert_exporter": "python",
   "pygments_lexer": "ipython3",
   "version": "3.8.10"
  }
 },
 "nbformat": 4,
 "nbformat_minor": 5
}
