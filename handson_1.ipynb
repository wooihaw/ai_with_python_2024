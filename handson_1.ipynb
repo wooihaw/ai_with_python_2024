{
  "cells": [
    {
      "cell_type": "markdown",
      "metadata": {
        "id": "view-in-github",
        "colab_type": "text"
      },
      "source": [
        "<a href=\"https://colab.research.google.com/github/wooihaw/ai_with_python_2024/blob/main/handson_1.ipynb\" target=\"_parent\"><img src=\"https://colab.research.google.com/assets/colab-badge.svg\" alt=\"Open In Colab\"/></a>"
      ]
    },
    {
      "cell_type": "markdown",
      "id": "93ec2321",
      "metadata": {
        "id": "93ec2321"
      },
      "source": [
        "## Hands-on 1\n",
        "#### This hands-on provides a quick introduction to Python"
      ]
    },
    {
      "cell_type": "markdown",
      "id": "d8dc06a4",
      "metadata": {
        "id": "d8dc06a4"
      },
      "source": [
        "## Variables"
      ]
    },
    {
      "cell_type": "code",
      "execution_count": null,
      "id": "ea23fb74",
      "metadata": {
        "id": "ea23fb74"
      },
      "outputs": [],
      "source": [
        "# Defining variables\n",
        "a = 10\n",
        "b = 'string_b'\n",
        "c = 0.999"
      ]
    },
    {
      "cell_type": "code",
      "execution_count": null,
      "id": "6365ab3f",
      "metadata": {
        "id": "6365ab3f"
      },
      "outputs": [],
      "source": [
        "# Use print to show the values\n",
        "print(a, b, c)"
      ]
    },
    {
      "cell_type": "code",
      "execution_count": null,
      "id": "7f1d62da",
      "metadata": {
        "scrolled": true,
        "id": "7f1d62da"
      },
      "outputs": [],
      "source": [
        "# Check the data type of the variables\n",
        "print(type(a))\n",
        "print(type(b))\n",
        "print(type(c))"
      ]
    },
    {
      "cell_type": "code",
      "execution_count": null,
      "id": "7b72e155",
      "metadata": {
        "id": "7b72e155"
      },
      "outputs": [],
      "source": [
        "# Swapping two variables\n",
        "a, b = 10, 20\n",
        "a, b = b, a\n",
        "\n",
        "print(a, b)"
      ]
    },
    {
      "cell_type": "markdown",
      "id": "a196d724",
      "metadata": {
        "id": "a196d724"
      },
      "source": [
        "## Conditional Logic"
      ]
    },
    {
      "cell_type": "code",
      "execution_count": null,
      "id": "86a53265",
      "metadata": {
        "id": "86a53265"
      },
      "outputs": [],
      "source": [
        "a = 10\n",
        "\n",
        "if a >= 5:\n",
        "    print('a >= 5 is true')\n",
        "else:\n",
        "    print('a >= 5 is false')"
      ]
    },
    {
      "cell_type": "code",
      "execution_count": null,
      "id": "b037b26f",
      "metadata": {
        "id": "b037b26f"
      },
      "outputs": [],
      "source": [
        "a = 3\n",
        "\n",
        "if a >= 5:\n",
        "    print('a >= 5 is true')\n",
        "elif a < 0:\n",
        "    print('a < 0 is true')\n",
        "else:\n",
        "    print('Both statements are false')"
      ]
    },
    {
      "cell_type": "markdown",
      "id": "85bbcf1c",
      "metadata": {
        "id": "85bbcf1c"
      },
      "source": [
        "## Loop"
      ]
    },
    {
      "cell_type": "code",
      "execution_count": null,
      "id": "dc312ad3",
      "metadata": {
        "id": "dc312ad3"
      },
      "outputs": [],
      "source": [
        "# for loop\n",
        "# Use range(10) to go from 0 to 9\n",
        "for i in range(10):\n",
        "    print(i)"
      ]
    },
    {
      "cell_type": "code",
      "execution_count": null,
      "id": "9ac2c592",
      "metadata": {
        "id": "9ac2c592"
      },
      "outputs": [],
      "source": [
        "# Use range(10, 100, 5) to start from 10 and move with increments of 5\n",
        "for i in range(5, 100, 5):\n",
        "    print(i)"
      ]
    },
    {
      "cell_type": "code",
      "execution_count": null,
      "id": "3fd6a8ee",
      "metadata": {
        "id": "3fd6a8ee"
      },
      "outputs": [],
      "source": [
        "# while loop: run while the condition is True\n",
        "cnt = 0\n",
        "\n",
        "while cnt < 5:\n",
        "    print(cnt)\n",
        "    cnt = cnt + 1"
      ]
    },
    {
      "cell_type": "markdown",
      "id": "b0c8c6df",
      "metadata": {
        "id": "b0c8c6df"
      },
      "source": [
        "## String"
      ]
    },
    {
      "cell_type": "code",
      "execution_count": null,
      "id": "156ab4a9",
      "metadata": {
        "id": "156ab4a9"
      },
      "outputs": [],
      "source": [
        "# Various way to define a string\n",
        "a = \"How are you today?\"\n",
        "b = 'How are you today?'\n",
        "c = \"How're you today?\"\n",
        "d = '''A long string that\n",
        "spans a few lines can be\n",
        "enclosed in triple quotes.'''\n",
        "\n",
        "print(a)\n",
        "print(b)\n",
        "print(c)\n",
        "print(d)"
      ]
    },
    {
      "cell_type": "code",
      "execution_count": null,
      "id": "09740419",
      "metadata": {
        "id": "09740419"
      },
      "outputs": [],
      "source": [
        "a = 'Hello'\n",
        "b = 'World'\n",
        "\n",
        "# String concatenation\n",
        "print(a + b)\n",
        "\n",
        "# String repetition\n",
        "print('Hello' * 3)"
      ]
    },
    {
      "cell_type": "code",
      "execution_count": null,
      "id": "90179b86",
      "metadata": {
        "tags": [],
        "id": "90179b86"
      },
      "outputs": [],
      "source": [
        "a = 'Hello, how are you'\n",
        "# Print all alphabets as uppercase\n",
        "print(a.upper())\n",
        "\n",
        "# Print all alphabets as lowercase\n",
        "print(a.lower())\n",
        "\n",
        "# Print each word with titlecase\n",
        "print(a.title())"
      ]
    },
    {
      "cell_type": "code",
      "execution_count": null,
      "id": "7930ebca",
      "metadata": {
        "id": "7930ebca"
      },
      "outputs": [],
      "source": [
        "# String indexing\n",
        "s = 'apple pie'\n",
        "\n",
        "print(s[0])  # first character\n",
        "print(s[8])  # last character\n",
        "print(s[-9]) # also first character\n",
        "print(s[-1]) # also last character"
      ]
    },
    {
      "cell_type": "code",
      "execution_count": null,
      "id": "2b492a7e",
      "metadata": {
        "id": "2b492a7e"
      },
      "outputs": [],
      "source": [
        "# String formatting\n",
        "quantity, fruit, price = 5, 'apples', 7.5\n",
        "\n",
        "print(f\"{quantity} {fruit} cost RM{price:.2f}\")"
      ]
    },
    {
      "cell_type": "markdown",
      "id": "0e986182",
      "metadata": {
        "id": "0e986182"
      },
      "source": [
        "## List"
      ]
    },
    {
      "cell_type": "code",
      "execution_count": null,
      "id": "c049fb47",
      "metadata": {
        "id": "c049fb47"
      },
      "outputs": [],
      "source": [
        "# create a list with numbers\n",
        "numbers = [1, 2, 3, 5, 7, 11, 13]\n",
        "\n",
        "# Getting first element from the list\n",
        "first = numbers[0]\n",
        "print(first)"
      ]
    },
    {
      "cell_type": "code",
      "execution_count": null,
      "id": "db577af0",
      "metadata": {
        "id": "db577af0"
      },
      "outputs": [],
      "source": [
        "# Changing one element of the list\n",
        "numbers[1] = -2\n",
        "print(numbers)"
      ]
    },
    {
      "cell_type": "code",
      "execution_count": null,
      "id": "ca92b66d",
      "metadata": {
        "id": "ca92b66d"
      },
      "outputs": [],
      "source": [
        "# Use -1 to access the last element, -2 to access the one before last and so on\n",
        "print(numbers[-1], numbers[-2])"
      ]
    },
    {
      "cell_type": "code",
      "execution_count": null,
      "id": "516d0e44",
      "metadata": {
        "id": "516d0e44"
      },
      "outputs": [],
      "source": [
        "# Iterating over a list using for loop\n",
        "for n in numbers:\n",
        "    print(n)"
      ]
    },
    {
      "cell_type": "code",
      "execution_count": null,
      "id": "d3e8bdea",
      "metadata": {
        "id": "d3e8bdea"
      },
      "outputs": [],
      "source": [
        "# Iterating over a list using range\n",
        "for i in range(len(numbers)):\n",
        "    n = numbers[i]\n",
        "    print(f\"numbers[{i}] = {n}\")"
      ]
    },
    {
      "cell_type": "code",
      "execution_count": null,
      "id": "24a0ac18",
      "metadata": {
        "id": "24a0ac18"
      },
      "outputs": [],
      "source": [
        "# Combininig two lists into one\n",
        "list1 = [1, 2, 3, 5]\n",
        "list2 = [7, 11, 13, 17]\n",
        "list1 = list1 + list2\n",
        "\n",
        "print(list1)"
      ]
    },
    {
      "cell_type": "code",
      "execution_count": null,
      "id": "9ef04bf2",
      "metadata": {
        "id": "9ef04bf2"
      },
      "outputs": [],
      "source": [
        "# Creating a list of lists\n",
        "list1 = [1, 2, 3, 5]\n",
        "list2 = [7, 11, 13, 17]\n",
        "list3 = [19, 23, 27, 29]\n",
        "\n",
        "lists = [list1, list2, list3]\n",
        "\n",
        "print(lists)"
      ]
    },
    {
      "cell_type": "code",
      "execution_count": null,
      "id": "4e746ad4",
      "metadata": {
        "id": "4e746ad4"
      },
      "outputs": [],
      "source": [
        "# Print each sub-list\n",
        "for l in lists:\n",
        "    print(l)"
      ]
    },
    {
      "cell_type": "markdown",
      "id": "35cbdbef",
      "metadata": {
        "id": "35cbdbef"
      },
      "source": [
        "## Dictionary"
      ]
    },
    {
      "cell_type": "code",
      "execution_count": null,
      "id": "259067fe",
      "metadata": {
        "id": "259067fe"
      },
      "outputs": [],
      "source": [
        "# Dictionaries map keys to values\n",
        "words_to_numbers = {'one': 1, 'two': 2, 'three': 3}\n",
        "\n",
        "# Accessing the value by its key\n",
        "print(words_to_numbers['one'])"
      ]
    },
    {
      "cell_type": "code",
      "execution_count": null,
      "id": "1449b871",
      "metadata": {
        "id": "1449b871"
      },
      "outputs": [],
      "source": [
        "# If the key is not in the dictionary, an error occurs\n",
        "print(words_to_numbers['five'])"
      ]
    },
    {
      "cell_type": "code",
      "execution_count": null,
      "id": "24a2c5f6",
      "metadata": {
        "id": "24a2c5f6"
      },
      "outputs": [],
      "source": [
        "# To check if the key is in the dictionary, use in\n",
        "if 'five' in words_to_numbers:\n",
        "    print(words_to_numbers['five'])\n",
        "else:\n",
        "    print('not in the dictionary')"
      ]
    },
    {
      "cell_type": "code",
      "execution_count": null,
      "id": "9dbd363b",
      "metadata": {
        "id": "9dbd363b"
      },
      "outputs": [],
      "source": [
        "# Use get(key, default_value) to return the default value if the key isn't present\n",
        "val = words_to_numbers.get('five', -1)\n",
        "print(val)"
      ]
    },
    {
      "cell_type": "code",
      "execution_count": null,
      "id": "9061b9dd",
      "metadata": {
        "id": "9061b9dd"
      },
      "outputs": [],
      "source": [
        "# Iterating over keys of the dictionary\n",
        "for k in words_to_numbers.keys():\n",
        "    v = words_to_numbers[k]\n",
        "    print(f\"{k}: {v}\")"
      ]
    },
    {
      "cell_type": "markdown",
      "id": "fac2e55c",
      "metadata": {
        "id": "fac2e55c"
      },
      "source": [
        "## Exception Handling"
      ]
    },
    {
      "cell_type": "code",
      "execution_count": null,
      "id": "15d35681",
      "metadata": {
        "id": "15d35681"
      },
      "outputs": [],
      "source": [
        "# Without exception handling\n",
        "num = int(input('Enter a number: '))\n",
        "print(f'You have entered {num}')\n",
        "print('Goodbye!')"
      ]
    },
    {
      "cell_type": "code",
      "execution_count": null,
      "id": "8a5d58db",
      "metadata": {
        "id": "8a5d58db"
      },
      "outputs": [],
      "source": [
        "# With exception handling\n",
        "try:\n",
        "    num = int(input('Enter a number: '))\n",
        "except:\n",
        "    print('Not a number!')\n",
        "else:\n",
        "    print(f'You have entered {num}')\n",
        "finally:\n",
        "    print('Goodbye!')"
      ]
    }
  ],
  "metadata": {
    "kernelspec": {
      "display_name": "Python 3",
      "language": "python",
      "name": "python3"
    },
    "language_info": {
      "codemirror_mode": {
        "name": "ipython",
        "version": 3
      },
      "file_extension": ".py",
      "mimetype": "text/x-python",
      "name": "python",
      "nbconvert_exporter": "python",
      "pygments_lexer": "ipython3",
      "version": "3.8.10"
    },
    "colab": {
      "provenance": [],
      "include_colab_link": true
    }
  },
  "nbformat": 4,
  "nbformat_minor": 5
}