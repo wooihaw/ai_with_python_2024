{
  "cells": [
    {
      "cell_type": "markdown",
      "metadata": {
        "id": "view-in-github",
        "colab_type": "text"
      },
      "source": [
        "<a href=\"https://colab.research.google.com/github/wooihaw/ai_with_python_2024/blob/main/handson_1.ipynb\" target=\"_parent\"><img src=\"https://colab.research.google.com/assets/colab-badge.svg\" alt=\"Open In Colab\"/></a>"
      ]
    },
    {
      "cell_type": "markdown",
      "id": "93ec2321",
      "metadata": {
        "id": "93ec2321"
      },
      "source": [
        "## Hands-on 1\n",
        "#### This hands-on provides a quick introduction to Python"
      ]
    },
    {
      "cell_type": "markdown",
      "id": "d8dc06a4",
      "metadata": {
        "id": "d8dc06a4"
      },
      "source": [
        "## Variables"
      ]
    },
    {
      "cell_type": "code",
      "execution_count": 1,
      "id": "ea23fb74",
      "metadata": {
        "id": "ea23fb74"
      },
      "outputs": [],
      "source": [
        "# Defining variables\n",
        "a = 10\n",
        "b = 'string_b'\n",
        "c = 0.999"
      ]
    },
    {
      "cell_type": "code",
      "execution_count": 2,
      "id": "6365ab3f",
      "metadata": {
        "id": "6365ab3f",
        "outputId": "7f71f17b-68b3-4bb6-9f2e-1da06b01b929",
        "colab": {
          "base_uri": "https://localhost:8080/"
        }
      },
      "outputs": [
        {
          "output_type": "stream",
          "name": "stdout",
          "text": [
            "10 string_b 0.999\n"
          ]
        }
      ],
      "source": [
        "# Use print to show the values\n",
        "print(a, b, c)"
      ]
    },
    {
      "cell_type": "code",
      "execution_count": 3,
      "id": "7f1d62da",
      "metadata": {
        "scrolled": true,
        "id": "7f1d62da",
        "outputId": "f9af4846-3e4d-42b8-a512-beeb4f181466",
        "colab": {
          "base_uri": "https://localhost:8080/"
        }
      },
      "outputs": [
        {
          "output_type": "stream",
          "name": "stdout",
          "text": [
            "<class 'int'>\n",
            "<class 'str'>\n",
            "<class 'float'>\n"
          ]
        }
      ],
      "source": [
        "# Check the data type of the variables\n",
        "print(type(a))\n",
        "print(type(b))\n",
        "print(type(c))"
      ]
    },
    {
      "cell_type": "code",
      "execution_count": 4,
      "id": "7b72e155",
      "metadata": {
        "id": "7b72e155",
        "outputId": "4e9a2b71-18a8-48d4-8b1e-b6eb1553d9ab",
        "colab": {
          "base_uri": "https://localhost:8080/"
        }
      },
      "outputs": [
        {
          "output_type": "stream",
          "name": "stdout",
          "text": [
            "20 10\n"
          ]
        }
      ],
      "source": [
        "# Swapping two variables\n",
        "a, b = 10, 20\n",
        "a, b = b, a\n",
        "\n",
        "print(a, b)"
      ]
    },
    {
      "cell_type": "markdown",
      "id": "a196d724",
      "metadata": {
        "id": "a196d724"
      },
      "source": [
        "## Conditional Logic"
      ]
    },
    {
      "cell_type": "code",
      "execution_count": 5,
      "id": "86a53265",
      "metadata": {
        "id": "86a53265",
        "outputId": "8ad44459-fb16-436d-c75d-6a6d8c2c1f37",
        "colab": {
          "base_uri": "https://localhost:8080/"
        }
      },
      "outputs": [
        {
          "output_type": "stream",
          "name": "stdout",
          "text": [
            "a >= 5 is true\n"
          ]
        }
      ],
      "source": [
        "a = 10\n",
        "\n",
        "if a >= 5:\n",
        "    print('a >= 5 is true')\n",
        "else:\n",
        "    print('a >= 5 is false')"
      ]
    },
    {
      "cell_type": "code",
      "execution_count": 6,
      "id": "b037b26f",
      "metadata": {
        "id": "b037b26f",
        "outputId": "e18946a5-c905-4f9f-c6e9-fa670ffb4d0f",
        "colab": {
          "base_uri": "https://localhost:8080/"
        }
      },
      "outputs": [
        {
          "output_type": "stream",
          "name": "stdout",
          "text": [
            "Both statements are false\n"
          ]
        }
      ],
      "source": [
        "a = 3\n",
        "\n",
        "if a >= 5:\n",
        "    print('a >= 5 is true')\n",
        "elif a < 0:\n",
        "    print('a < 0 is true')\n",
        "else:\n",
        "    print('Both statements are false')"
      ]
    },
    {
      "cell_type": "markdown",
      "id": "85bbcf1c",
      "metadata": {
        "id": "85bbcf1c"
      },
      "source": [
        "## Loop"
      ]
    },
    {
      "cell_type": "code",
      "execution_count": 7,
      "id": "dc312ad3",
      "metadata": {
        "id": "dc312ad3",
        "outputId": "7b280781-af9d-4436-c446-e316b644f198",
        "colab": {
          "base_uri": "https://localhost:8080/"
        }
      },
      "outputs": [
        {
          "output_type": "stream",
          "name": "stdout",
          "text": [
            "0\n",
            "1\n",
            "2\n",
            "3\n",
            "4\n",
            "5\n",
            "6\n",
            "7\n",
            "8\n",
            "9\n"
          ]
        }
      ],
      "source": [
        "# for loop\n",
        "# Use range(10) to go from 0 to 9\n",
        "for i in range(10):\n",
        "    print(i)"
      ]
    },
    {
      "cell_type": "code",
      "execution_count": 8,
      "id": "9ac2c592",
      "metadata": {
        "id": "9ac2c592",
        "outputId": "c372c454-2468-4e22-96ff-b35860cd3c9a",
        "colab": {
          "base_uri": "https://localhost:8080/"
        }
      },
      "outputs": [
        {
          "output_type": "stream",
          "name": "stdout",
          "text": [
            "5\n",
            "10\n",
            "15\n",
            "20\n",
            "25\n",
            "30\n",
            "35\n",
            "40\n",
            "45\n",
            "50\n",
            "55\n",
            "60\n",
            "65\n",
            "70\n",
            "75\n",
            "80\n",
            "85\n",
            "90\n",
            "95\n"
          ]
        }
      ],
      "source": [
        "# Use range(10, 100, 5) to start from 10 and move with increments of 5\n",
        "for i in range(5, 100, 5):\n",
        "    print(i)"
      ]
    },
    {
      "cell_type": "code",
      "execution_count": 9,
      "id": "3fd6a8ee",
      "metadata": {
        "id": "3fd6a8ee",
        "outputId": "80b85255-9afc-4446-d0c1-c6fa2e30fc02",
        "colab": {
          "base_uri": "https://localhost:8080/"
        }
      },
      "outputs": [
        {
          "output_type": "stream",
          "name": "stdout",
          "text": [
            "0\n",
            "1\n",
            "2\n",
            "3\n",
            "4\n"
          ]
        }
      ],
      "source": [
        "# while loop: run while the condition is True\n",
        "cnt = 0\n",
        "\n",
        "while cnt < 5:\n",
        "    print(cnt)\n",
        "    cnt = cnt + 1"
      ]
    },
    {
      "cell_type": "markdown",
      "id": "b0c8c6df",
      "metadata": {
        "id": "b0c8c6df"
      },
      "source": [
        "## String"
      ]
    },
    {
      "cell_type": "code",
      "execution_count": 10,
      "id": "156ab4a9",
      "metadata": {
        "id": "156ab4a9",
        "outputId": "e57bed00-a859-42a8-bec8-7ef695175fb1",
        "colab": {
          "base_uri": "https://localhost:8080/"
        }
      },
      "outputs": [
        {
          "output_type": "stream",
          "name": "stdout",
          "text": [
            "How are you today?\n",
            "How are you today?\n",
            "How're you today?\n",
            "A long string that\n",
            "spans a few lines can be\n",
            "enclosed in triple quotes.\n"
          ]
        }
      ],
      "source": [
        "# Various way to define a string\n",
        "a = \"How are you today?\"\n",
        "b = 'How are you today?'\n",
        "c = \"How're you today?\"\n",
        "d = '''A long string that\n",
        "spans a few lines can be\n",
        "enclosed in triple quotes.'''\n",
        "\n",
        "print(a)\n",
        "print(b)\n",
        "print(c)\n",
        "print(d)"
      ]
    },
    {
      "cell_type": "code",
      "execution_count": 11,
      "id": "09740419",
      "metadata": {
        "id": "09740419",
        "outputId": "85322884-4214-41d9-8ec8-095a18722b55",
        "colab": {
          "base_uri": "https://localhost:8080/"
        }
      },
      "outputs": [
        {
          "output_type": "stream",
          "name": "stdout",
          "text": [
            "HelloWorld\n",
            "HelloHelloHello\n"
          ]
        }
      ],
      "source": [
        "a = 'Hello'\n",
        "b = 'World'\n",
        "\n",
        "# String concatenation\n",
        "print(a + b)\n",
        "\n",
        "# String repetition\n",
        "print('Hello' * 3)"
      ]
    },
    {
      "cell_type": "code",
      "execution_count": 12,
      "id": "90179b86",
      "metadata": {
        "tags": [],
        "id": "90179b86",
        "outputId": "1ef0a3c5-5d15-492c-f695-d692b092e056",
        "colab": {
          "base_uri": "https://localhost:8080/"
        }
      },
      "outputs": [
        {
          "output_type": "stream",
          "name": "stdout",
          "text": [
            "HELLO, HOW ARE YOU\n",
            "hello, how are you\n",
            "Hello, How Are You\n"
          ]
        }
      ],
      "source": [
        "a = 'Hello, how are you'\n",
        "# Print all alphabets as uppercase\n",
        "print(a.upper())\n",
        "\n",
        "# Print all alphabets as lowercase\n",
        "print(a.lower())\n",
        "\n",
        "# Print each word with titlecase\n",
        "print(a.title())"
      ]
    },
    {
      "cell_type": "code",
      "execution_count": 13,
      "id": "7930ebca",
      "metadata": {
        "id": "7930ebca",
        "outputId": "08f7affe-5816-4f05-b3b6-0608dd8a70f9",
        "colab": {
          "base_uri": "https://localhost:8080/"
        }
      },
      "outputs": [
        {
          "output_type": "stream",
          "name": "stdout",
          "text": [
            "a\n",
            "e\n",
            "a\n",
            "e\n"
          ]
        }
      ],
      "source": [
        "# String indexing\n",
        "s = 'apple pie'\n",
        "\n",
        "print(s[0])  # first character\n",
        "print(s[8])  # last character\n",
        "print(s[-9]) # also first character\n",
        "print(s[-1]) # also last character"
      ]
    },
    {
      "cell_type": "code",
      "execution_count": 14,
      "id": "2b492a7e",
      "metadata": {
        "id": "2b492a7e",
        "outputId": "55095abf-5a73-44d2-e24d-62ce778f1f1a",
        "colab": {
          "base_uri": "https://localhost:8080/"
        }
      },
      "outputs": [
        {
          "output_type": "stream",
          "name": "stdout",
          "text": [
            "5 apples cost RM7.50\n"
          ]
        }
      ],
      "source": [
        "# String formatting\n",
        "quantity, fruit, price = 5, 'apples', 7.5\n",
        "\n",
        "print(f\"{quantity} {fruit} cost RM{price:.2f}\")"
      ]
    },
    {
      "cell_type": "markdown",
      "id": "0e986182",
      "metadata": {
        "id": "0e986182"
      },
      "source": [
        "## List"
      ]
    },
    {
      "cell_type": "code",
      "execution_count": 15,
      "id": "c049fb47",
      "metadata": {
        "id": "c049fb47",
        "outputId": "2b5622f1-c60a-458d-be84-53dcb29d4e72",
        "colab": {
          "base_uri": "https://localhost:8080/"
        }
      },
      "outputs": [
        {
          "output_type": "stream",
          "name": "stdout",
          "text": [
            "1\n"
          ]
        }
      ],
      "source": [
        "# create a list with numbers\n",
        "numbers = [1, 2, 3, 5, 7, 11, 13]\n",
        "\n",
        "# Getting first element from the list\n",
        "first = numbers[0]\n",
        "print(first)"
      ]
    },
    {
      "cell_type": "code",
      "execution_count": 16,
      "id": "db577af0",
      "metadata": {
        "id": "db577af0",
        "outputId": "a8449581-0ad0-41ed-f534-6db5d4b8bcbb",
        "colab": {
          "base_uri": "https://localhost:8080/"
        }
      },
      "outputs": [
        {
          "output_type": "stream",
          "name": "stdout",
          "text": [
            "[1, -2, 3, 5, 7, 11, 13]\n"
          ]
        }
      ],
      "source": [
        "# Changing one element of the list\n",
        "numbers[1] = -2\n",
        "print(numbers)"
      ]
    },
    {
      "cell_type": "code",
      "execution_count": 17,
      "id": "ca92b66d",
      "metadata": {
        "id": "ca92b66d",
        "outputId": "d93df9fc-fa58-4b3d-859a-b52490ad9c24",
        "colab": {
          "base_uri": "https://localhost:8080/"
        }
      },
      "outputs": [
        {
          "output_type": "stream",
          "name": "stdout",
          "text": [
            "13 11\n"
          ]
        }
      ],
      "source": [
        "# Use -1 to access the last element, -2 to access the one before last and so on\n",
        "print(numbers[-1], numbers[-2])"
      ]
    },
    {
      "cell_type": "code",
      "execution_count": 18,
      "id": "516d0e44",
      "metadata": {
        "id": "516d0e44",
        "outputId": "a347383a-0f1b-4ad9-b68c-156cc91dba50",
        "colab": {
          "base_uri": "https://localhost:8080/"
        }
      },
      "outputs": [
        {
          "output_type": "stream",
          "name": "stdout",
          "text": [
            "1\n",
            "-2\n",
            "3\n",
            "5\n",
            "7\n",
            "11\n",
            "13\n"
          ]
        }
      ],
      "source": [
        "# Iterating over a list using for loop\n",
        "for n in numbers:\n",
        "    print(n)"
      ]
    },
    {
      "cell_type": "code",
      "execution_count": 19,
      "id": "d3e8bdea",
      "metadata": {
        "id": "d3e8bdea",
        "outputId": "edf8973a-cdac-4f90-d09a-3da93c28eef9",
        "colab": {
          "base_uri": "https://localhost:8080/"
        }
      },
      "outputs": [
        {
          "output_type": "stream",
          "name": "stdout",
          "text": [
            "numbers[0] = 1\n",
            "numbers[1] = -2\n",
            "numbers[2] = 3\n",
            "numbers[3] = 5\n",
            "numbers[4] = 7\n",
            "numbers[5] = 11\n",
            "numbers[6] = 13\n"
          ]
        }
      ],
      "source": [
        "# Iterating over a list using range\n",
        "for i in range(len(numbers)):\n",
        "    n = numbers[i]\n",
        "    print(f\"numbers[{i}] = {n}\")"
      ]
    },
    {
      "cell_type": "code",
      "execution_count": 20,
      "id": "24a0ac18",
      "metadata": {
        "id": "24a0ac18",
        "outputId": "3b2e7c6d-77f9-42ef-b74a-bd01facc95b2",
        "colab": {
          "base_uri": "https://localhost:8080/"
        }
      },
      "outputs": [
        {
          "output_type": "stream",
          "name": "stdout",
          "text": [
            "[1, 2, 3, 5, 7, 11, 13, 17]\n"
          ]
        }
      ],
      "source": [
        "# Combininig two lists into one\n",
        "list1 = [1, 2, 3, 5]\n",
        "list2 = [7, 11, 13, 17]\n",
        "list1 = list1 + list2\n",
        "\n",
        "print(list1)"
      ]
    },
    {
      "cell_type": "code",
      "execution_count": 21,
      "id": "9ef04bf2",
      "metadata": {
        "id": "9ef04bf2",
        "outputId": "0d0ab4e0-ab87-45a9-fcd5-ae4586a6f552",
        "colab": {
          "base_uri": "https://localhost:8080/"
        }
      },
      "outputs": [
        {
          "output_type": "stream",
          "name": "stdout",
          "text": [
            "[[1, 2, 3, 5], [7, 11, 13, 17], [19, 23, 27, 29]]\n"
          ]
        }
      ],
      "source": [
        "# Creating a list of lists\n",
        "list1 = [1, 2, 3, 5]\n",
        "list2 = [7, 11, 13, 17]\n",
        "list3 = [19, 23, 27, 29]\n",
        "\n",
        "lists = [list1, list2, list3]\n",
        "\n",
        "print(lists)"
      ]
    },
    {
      "cell_type": "code",
      "execution_count": 22,
      "id": "4e746ad4",
      "metadata": {
        "id": "4e746ad4",
        "outputId": "612afcc7-b064-442f-a40c-13492eeb3f2f",
        "colab": {
          "base_uri": "https://localhost:8080/"
        }
      },
      "outputs": [
        {
          "output_type": "stream",
          "name": "stdout",
          "text": [
            "[1, 2, 3, 5]\n",
            "[7, 11, 13, 17]\n",
            "[19, 23, 27, 29]\n"
          ]
        }
      ],
      "source": [
        "# Print each sub-list\n",
        "for l in lists:\n",
        "    print(l)"
      ]
    },
    {
      "cell_type": "markdown",
      "id": "35cbdbef",
      "metadata": {
        "id": "35cbdbef"
      },
      "source": [
        "## Dictionary"
      ]
    },
    {
      "cell_type": "code",
      "execution_count": 23,
      "id": "259067fe",
      "metadata": {
        "id": "259067fe",
        "outputId": "d990752b-ce2e-439c-c29e-bbdbc75660a3",
        "colab": {
          "base_uri": "https://localhost:8080/"
        }
      },
      "outputs": [
        {
          "output_type": "stream",
          "name": "stdout",
          "text": [
            "1\n"
          ]
        }
      ],
      "source": [
        "# Dictionaries map keys to values\n",
        "words_to_numbers = {'one': 1, 'two': 2, 'three': 3}\n",
        "\n",
        "# Accessing the value by its key\n",
        "print(words_to_numbers['one'])"
      ]
    },
    {
      "cell_type": "code",
      "execution_count": 24,
      "id": "1449b871",
      "metadata": {
        "id": "1449b871",
        "outputId": "6d3673d9-948e-4145-ba7c-ed70ae57dc29",
        "colab": {
          "base_uri": "https://localhost:8080/",
          "height": 158
        }
      },
      "outputs": [
        {
          "output_type": "error",
          "ename": "KeyError",
          "evalue": "'five'",
          "traceback": [
            "\u001b[0;31m---------------------------------------------------------------------------\u001b[0m",
            "\u001b[0;31mKeyError\u001b[0m                                  Traceback (most recent call last)",
            "\u001b[0;32m<ipython-input-24-2e3268800944>\u001b[0m in \u001b[0;36m<cell line: 2>\u001b[0;34m()\u001b[0m\n\u001b[1;32m      1\u001b[0m \u001b[0;31m# If the key is not in the dictionary, an error occurs\u001b[0m\u001b[0;34m\u001b[0m\u001b[0;34m\u001b[0m\u001b[0m\n\u001b[0;32m----> 2\u001b[0;31m \u001b[0mprint\u001b[0m\u001b[0;34m(\u001b[0m\u001b[0mwords_to_numbers\u001b[0m\u001b[0;34m[\u001b[0m\u001b[0;34m'five'\u001b[0m\u001b[0;34m]\u001b[0m\u001b[0;34m)\u001b[0m\u001b[0;34m\u001b[0m\u001b[0;34m\u001b[0m\u001b[0m\n\u001b[0m",
            "\u001b[0;31mKeyError\u001b[0m: 'five'"
          ]
        }
      ],
      "source": [
        "# If the key is not in the dictionary, an error occurs\n",
        "print(words_to_numbers['five'])"
      ]
    },
    {
      "cell_type": "code",
      "execution_count": 25,
      "id": "24a2c5f6",
      "metadata": {
        "id": "24a2c5f6",
        "outputId": "2a39d23f-6f47-474b-86be-d7eaa95a3492",
        "colab": {
          "base_uri": "https://localhost:8080/"
        }
      },
      "outputs": [
        {
          "output_type": "stream",
          "name": "stdout",
          "text": [
            "not in the dictionary\n"
          ]
        }
      ],
      "source": [
        "# To check if the key is in the dictionary, use in\n",
        "if 'five' in words_to_numbers:\n",
        "    print(words_to_numbers['five'])\n",
        "else:\n",
        "    print('not in the dictionary')"
      ]
    },
    {
      "cell_type": "code",
      "execution_count": 26,
      "id": "9dbd363b",
      "metadata": {
        "id": "9dbd363b",
        "outputId": "a14f80eb-0f18-4118-f3bc-b12807a4a501",
        "colab": {
          "base_uri": "https://localhost:8080/"
        }
      },
      "outputs": [
        {
          "output_type": "stream",
          "name": "stdout",
          "text": [
            "-1\n"
          ]
        }
      ],
      "source": [
        "# Use get(key, default_value) to return the default value if the key isn't present\n",
        "val = words_to_numbers.get('five', -1)\n",
        "print(val)"
      ]
    },
    {
      "cell_type": "code",
      "execution_count": 27,
      "id": "9061b9dd",
      "metadata": {
        "id": "9061b9dd",
        "outputId": "5da7666c-5382-457f-cf8c-88295b6c7765",
        "colab": {
          "base_uri": "https://localhost:8080/"
        }
      },
      "outputs": [
        {
          "output_type": "stream",
          "name": "stdout",
          "text": [
            "one: 1\n",
            "two: 2\n",
            "three: 3\n"
          ]
        }
      ],
      "source": [
        "# Iterating over keys of the dictionary\n",
        "for k in words_to_numbers.keys():\n",
        "    v = words_to_numbers[k]\n",
        "    print(f\"{k}: {v}\")"
      ]
    },
    {
      "cell_type": "markdown",
      "id": "fac2e55c",
      "metadata": {
        "id": "fac2e55c"
      },
      "source": [
        "## Exception Handling"
      ]
    },
    {
      "cell_type": "code",
      "execution_count": 28,
      "id": "15d35681",
      "metadata": {
        "id": "15d35681",
        "outputId": "bc15e2c8-9d45-499f-8534-b59599bf3dec",
        "colab": {
          "base_uri": "https://localhost:8080/",
          "height": 211
        }
      },
      "outputs": [
        {
          "name": "stdout",
          "output_type": "stream",
          "text": [
            "Enter a number: abc\n"
          ]
        },
        {
          "output_type": "error",
          "ename": "ValueError",
          "evalue": "invalid literal for int() with base 10: 'abc'",
          "traceback": [
            "\u001b[0;31m---------------------------------------------------------------------------\u001b[0m",
            "\u001b[0;31mValueError\u001b[0m                                Traceback (most recent call last)",
            "\u001b[0;32m<ipython-input-28-8a7778dfaeff>\u001b[0m in \u001b[0;36m<cell line: 2>\u001b[0;34m()\u001b[0m\n\u001b[1;32m      1\u001b[0m \u001b[0;31m# Without exception handling\u001b[0m\u001b[0;34m\u001b[0m\u001b[0;34m\u001b[0m\u001b[0m\n\u001b[0;32m----> 2\u001b[0;31m \u001b[0mnum\u001b[0m \u001b[0;34m=\u001b[0m \u001b[0mint\u001b[0m\u001b[0;34m(\u001b[0m\u001b[0minput\u001b[0m\u001b[0;34m(\u001b[0m\u001b[0;34m'Enter a number: '\u001b[0m\u001b[0;34m)\u001b[0m\u001b[0;34m)\u001b[0m\u001b[0;34m\u001b[0m\u001b[0;34m\u001b[0m\u001b[0m\n\u001b[0m\u001b[1;32m      3\u001b[0m \u001b[0mprint\u001b[0m\u001b[0;34m(\u001b[0m\u001b[0;34mf'You have entered {num}'\u001b[0m\u001b[0;34m)\u001b[0m\u001b[0;34m\u001b[0m\u001b[0;34m\u001b[0m\u001b[0m\n\u001b[1;32m      4\u001b[0m \u001b[0mprint\u001b[0m\u001b[0;34m(\u001b[0m\u001b[0;34m'Goodbye!'\u001b[0m\u001b[0;34m)\u001b[0m\u001b[0;34m\u001b[0m\u001b[0;34m\u001b[0m\u001b[0m\n",
            "\u001b[0;31mValueError\u001b[0m: invalid literal for int() with base 10: 'abc'"
          ]
        }
      ],
      "source": [
        "# Without exception handling\n",
        "num = int(input('Enter a number: '))\n",
        "print(f'You have entered {num}')\n",
        "print('Goodbye!')"
      ]
    },
    {
      "cell_type": "code",
      "execution_count": 29,
      "id": "8a5d58db",
      "metadata": {
        "id": "8a5d58db",
        "outputId": "153d7c7a-8c92-4f59-d4d2-37407432486a",
        "colab": {
          "base_uri": "https://localhost:8080/"
        }
      },
      "outputs": [
        {
          "output_type": "stream",
          "name": "stdout",
          "text": [
            "Enter a number: abc\n",
            "Not a number!\n",
            "Goodbye!\n"
          ]
        }
      ],
      "source": [
        "# With exception handling\n",
        "try:\n",
        "    num = int(input('Enter a number: '))\n",
        "except:\n",
        "    print('Not a number!')\n",
        "else:\n",
        "    print(f'You have entered {num}')\n",
        "finally:\n",
        "    print('Goodbye!')"
      ]
    }
  ],
  "metadata": {
    "kernelspec": {
      "display_name": "Python 3",
      "language": "python",
      "name": "python3"
    },
    "language_info": {
      "codemirror_mode": {
        "name": "ipython",
        "version": 3
      },
      "file_extension": ".py",
      "mimetype": "text/x-python",
      "name": "python",
      "nbconvert_exporter": "python",
      "pygments_lexer": "ipython3",
      "version": "3.8.10"
    },
    "colab": {
      "provenance": [],
      "include_colab_link": true
    }
  },
  "nbformat": 4,
  "nbformat_minor": 5
}