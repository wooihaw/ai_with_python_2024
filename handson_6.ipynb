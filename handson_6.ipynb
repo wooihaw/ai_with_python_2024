{
  "cells": [
    {
      "cell_type": "markdown",
      "id": "da42bf0e-07e3-4533-9356-3700b31085ac",
      "metadata": {
        "id": "da42bf0e-07e3-4533-9356-3700b31085ac"
      },
      "source": [
        "## Hands-on 6\n",
        "#### In this hands-on, an LLM will be installed and served.\n",
        "#### Retrieval Augmented Generation (RAG) will be used to to produce more accurate and contextually relevant outputs"
      ]
    },
    {
      "cell_type": "code",
      "execution_count": null,
      "id": "70c3a7f1-9703-4758-b684-02ac82d833d2",
      "metadata": {
        "id": "70c3a7f1-9703-4758-b684-02ac82d833d2"
      },
      "outputs": [],
      "source": [
        "!curl https://ollama.ai/install.sh | sh"
      ]
    },
    {
      "cell_type": "code",
      "execution_count": null,
      "id": "4a2e6cca-b9ab-4c87-9b70-0c2d28c93e72",
      "metadata": {
        "id": "4a2e6cca-b9ab-4c87-9b70-0c2d28c93e72"
      },
      "outputs": [],
      "source": [
        "!ollama --version"
      ]
    },
    {
      "cell_type": "code",
      "execution_count": null,
      "id": "cffe06ec-6c61-4222-8587-e15d3c44872b",
      "metadata": {
        "id": "cffe06ec-6c61-4222-8587-e15d3c44872b"
      },
      "outputs": [],
      "source": [
        "pip install colab-xterm ollama chromadb"
      ]
    },
    {
      "cell_type": "code",
      "execution_count": null,
      "id": "4294f20b-e668-4761-9f76-4ba3aa86415c",
      "metadata": {
        "id": "4294f20b-e668-4761-9f76-4ba3aa86415c"
      },
      "outputs": [],
      "source": [
        "%load_ext colabxterm\n",
        "%xterm"
      ]
    },
    {
      "cell_type": "code",
      "execution_count": null,
      "id": "ecc6af21-c422-447a-8c1c-79138ab7603d",
      "metadata": {
        "id": "ecc6af21-c422-447a-8c1c-79138ab7603d",
        "collapsed": true
      },
      "outputs": [],
      "source": [
        "!ollama pull phi3"
      ]
    },
    {
      "cell_type": "code",
      "execution_count": null,
      "id": "d2cb75b6-7b37-4eeb-ae6c-fa037a4854ac",
      "metadata": {
        "id": "d2cb75b6-7b37-4eeb-ae6c-fa037a4854ac",
        "collapsed": true
      },
      "outputs": [],
      "source": [
        "!ollama pull mxbai-embed-large"
      ]
    },
    {
      "cell_type": "code",
      "source": [
        "import ollama\n",
        "\n",
        "def chat_with_user():\n",
        "    while True:\n",
        "        # Get user input\n",
        "        user_input = input(\"You: \")\n",
        "\n",
        "        # Exit the chat if the user types \"exit\" or \"quit\"\n",
        "        if user_input.lower() in [\"exit\", \"quit\"]:\n",
        "            print(\"Ending chat. Goodbye!\")\n",
        "            break\n",
        "\n",
        "        # Send the user input to the model and get the response\n",
        "        response = ollama.chat(model='phi3', messages=[\n",
        "            {\n",
        "                'role': 'user',\n",
        "                'content': user_input,\n",
        "            },\n",
        "        ])\n",
        "\n",
        "        # Print the model's response\n",
        "        print(f\"Chatbot: {response['message']['content']}\")\n",
        "\n",
        "# Start the chat\n",
        "chat_with_user()"
      ],
      "metadata": {
        "id": "-msOh8zvpH6q"
      },
      "id": "-msOh8zvpH6q",
      "execution_count": null,
      "outputs": []
    },
    {
      "cell_type": "code",
      "source": [
        "import chromadb\n",
        "from ollama import Client\n",
        "\n",
        "# Initialize the LLM client and ChromaDB client\n",
        "llm = Client(host=\"http://localhost:11434\")\n",
        "client = chromadb.Client()\n",
        "\n",
        "# Define the documents and create a collection\n",
        "documents = [\n",
        "    \"Ahmed Bin Careem is a professor at Imaginative University.\",\n",
        "    \"Ahmed Bin Careem holds a Ph.D. in Artificial Intelligence.\",\n",
        "    \"Ahmed Bin Careem is a highly qualified and experienced educator with expertise in cutting-edge technologies such as Machine Learning, Deep Learning, and Large Language Models.\",\n",
        "]\n",
        "\n",
        "collection = client.create_collection(name=\"docs\")\n",
        "\n",
        "# Store each document in the vector embedding database\n",
        "for i, d in enumerate(documents):\n",
        "    response = llm.embeddings(model=\"mxbai-embed-large\", prompt=d)\n",
        "    embedding = response[\"embedding\"]\n",
        "    collection.add(ids=[str(i)], embeddings=[embedding], documents=[d])\n",
        "\n",
        "# Function to generate response based on user prompt\n",
        "def generate_response(prompt):\n",
        "    # Generate an embedding for the prompt and retrieve the most relevant doc\n",
        "    response = llm.embeddings(prompt=prompt, model=\"mxbai-embed-large\")\n",
        "    results = collection.query(query_embeddings=[response[\"embedding\"]], n_results=1)\n",
        "    data = results[\"documents\"][0][0]\n",
        "\n",
        "    # Generate a response combining the prompt and retrieved data\n",
        "    output = llm.generate(\n",
        "        model=\"phi3\", prompt=f\"Using this data: {data}. Respond to this prompt: {prompt}\"\n",
        "    )\n",
        "    return output[\"response\"]\n",
        "\n",
        "# Continuously chat with the user\n",
        "while True:\n",
        "    user_prompt = input(\"You: \")\n",
        "    if user_prompt.lower() in [\"exit\", \"quit\"]:\n",
        "        print(\"Ending chat. Goodbye!\")\n",
        "        break\n",
        "    response = generate_response(user_prompt)\n",
        "    print(f\"Chatbot: {response}\")\n"
      ],
      "metadata": {
        "id": "3TN9cetnnbZ5"
      },
      "id": "3TN9cetnnbZ5",
      "execution_count": null,
      "outputs": []
    }
  ],
  "metadata": {
    "kernelspec": {
      "display_name": "Python 3",
      "name": "python3"
    },
    "language_info": {
      "codemirror_mode": {
        "name": "ipython",
        "version": 3
      },
      "file_extension": ".py",
      "mimetype": "text/x-python",
      "name": "python",
      "nbconvert_exporter": "python",
      "pygments_lexer": "ipython3",
      "version": "3.8.10"
    },
    "colab": {
      "provenance": [],
      "gpuType": "T4"
    },
    "accelerator": "GPU"
  },
  "nbformat": 4,
  "nbformat_minor": 5
}