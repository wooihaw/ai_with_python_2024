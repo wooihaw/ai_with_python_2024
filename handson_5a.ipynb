{
 "cells": [
  {
   "cell_type": "markdown",
   "id": "3ca70a06-47ee-4441-a1c0-48a952eb4495",
   "metadata": {},
   "source": [
    "# Hands-on 5a\n",
    "## This is a 'Hello World\" example for convolutional neural network (CNN)\n",
    "### In this example, we will build and train a CNN to classify images of handwritten digit"
   ]
  },
  {
   "cell_type": "code",
   "execution_count": null,
   "id": "79dc3a39-8dfc-43f8-9876-7c21f97ca642",
   "metadata": {
    "id": "UXTGgWG_69dp"
   },
   "outputs": [],
   "source": [
    "%matplotlib inline\n",
    "from warnings import filterwarnings\n",
    "filterwarnings('ignore')"
   ]
  },
  {
   "cell_type": "code",
   "execution_count": null,
   "id": "010f057d-c355-4e21-a907-2bef405de500",
   "metadata": {
    "id": "MUf16VAb69dt"
   },
   "outputs": [],
   "source": [
    "# Import the relevant Python modules\n",
    "import tensorflow as tf\n",
    "from tensorflow.keras.datasets import mnist\n",
    "from tensorflow.keras.models import Sequential\n",
    "from tensorflow.keras.layers import Conv2D, MaxPooling2D, Flatten, Dense\n",
    "import matplotlib.pyplot as plt\n",
    "import numpy as np"
   ]
  },
  {
   "cell_type": "code",
   "execution_count": null,
   "id": "2ea419fe-6670-4537-b052-d0ab9a4d0956",
   "metadata": {
    "id": "sicHPEX8ACOr"
   },
   "outputs": [],
   "source": [
    "# Load the dataset and split data into training and test sets\n",
    "(training_images, training_labels), (test_images, test_labels) = mnist.load_data()\n",
    "\n",
    "# Display an handwritten digit in the traijning set (change m to display another digit)\n",
    "m = 111\n",
    "plt.axis(False)\n",
    "plt.title(f'Label: {training_labels[m]}')\n",
    "plt.imshow(training_images[m], cmap='gray')\n",
    "plt.show()"
   ]
  },
  {
   "cell_type": "code",
   "execution_count": null,
   "id": "16a7168a-b570-4e6a-a718-c7de27c64ce2",
   "metadata": {
    "id": "XzvP1deiACOr"
   },
   "outputs": [],
   "source": [
    "# Preprocessing the data\n",
    "training_images=training_images.reshape(60000, 28, 28, 1)\n",
    "training_images=training_images / 255.0\n",
    "test_images = test_images.reshape(10000, 28, 28, 1)\n",
    "test_images = test_images / 255.0"
   ]
  },
  {
   "cell_type": "code",
   "execution_count": null,
   "id": "facdfaa7-4eac-43b4-80e9-b92a8407027c",
   "metadata": {
    "id": "3IagFI23ACOr"
   },
   "outputs": [],
   "source": [
    "# Define the model\n",
    "model = Sequential()\n",
    "model.add(Conv2D(20, (5, 5), padding=\"same\", input_shape=(28, 28, 1), activation='relu'))\n",
    "model.add(MaxPooling2D(pool_size=(2, 2), strides=(2, 2)))\n",
    "model.add(Conv2D(50, (5, 5), padding=\"same\", activation='relu'))\n",
    "model.add(MaxPooling2D(pool_size=(2, 2), strides=(2, 2)))\n",
    "model.add(Flatten())\n",
    "model.add(Dense(500, activation='relu'))\n",
    "model.add(Dense(10, activation='softmax'))\n",
    "\n",
    "# Compile the model\n",
    "model.compile(optimizer='adam', loss='sparse_categorical_crossentropy', metrics=['accuracy'])\n",
    "\n",
    "# model fitting (train the model using the training set)\n",
    "history = model.fit(training_images, training_labels, validation_data=(test_images, test_labels), epochs=10, batch_size=64)"
   ]
  },
  {
   "cell_type": "code",
   "execution_count": null,
   "id": "30bf885a-83b0-47de-83eb-9872be447672",
   "metadata": {
    "id": "kh_xHYAoACOs"
   },
   "outputs": [],
   "source": [
    "# Plot the performance of the model\n",
    "plt.plot(history.history['accuracy'], 'b', label='train')\n",
    "plt.plot(history.history['val_accuracy'], 'g', label='test')\n",
    "plt.xlabel('Epoch')\n",
    "plt.ylabel('Accuracy')\n",
    "plt.title('Model Accuracy')\n",
    "plt.legend(loc='best')\n",
    "plt.show()\n",
    "\n",
    "plt.plot(history.history['loss'], 'b', label='train')\n",
    "plt.plot(history.history['val_loss'], 'g', label='test')\n",
    "plt.xlabel('Epoch')\n",
    "plt.ylabel('Loss')\n",
    "plt.title('Model Loss')\n",
    "plt.legend(loc='best')\n",
    "plt.show()"
   ]
  },
  {
   "cell_type": "code",
   "execution_count": null,
   "id": "a084701f-d852-4a4b-9d0c-cf523e287d0b",
   "metadata": {
    "id": "iXDzhEF2XPaa"
   },
   "outputs": [],
   "source": [
    "# Evaluate the performance of the trained model using the test set\n",
    "score = model.evaluate(test_images, test_labels)\n",
    "print(f'Loss: {score[0]:.4f}, accuracy: {score[1]:.4f}')"
   ]
  },
  {
   "cell_type": "code",
   "execution_count": null,
   "id": "c809e9cf-57c9-4c03-b102-a1dd55928bd0",
   "metadata": {
    "id": "P6Y_Fac2ACOs"
   },
   "outputs": [],
   "source": [
    "# Predict the label of a test image (enter an index between 0 and 9999)\n",
    "try:\n",
    "  index = int(input(\"Enter an index between 0 and 9999: \"))\n",
    "  assert 0 <= index < 10000, \"The index should be between 0 and 9999\"\n",
    "except Exception as e:\n",
    "  print(\"Error: \", e)\n",
    "else:\n",
    "  x = np.expand_dims(test_images[index], axis=0)\n",
    "  classes = model.predict(x)\n",
    "  print(f'Predicted label: {classes.argmax()}')\n",
    "\n",
    "  # Display the test image and show the actual label\n",
    "  plt.axis(False)\n",
    "  plt.title(f'Actual label: {test_labels[index]}')\n",
    "  plt.imshow(test_images[index].reshape(28, 28) * 255, cmap='gray')\n",
    "  plt.show()"
   ]
  }
 ],
 "metadata": {
  "kernelspec": {
   "display_name": "Python 3",
   "language": "python",
   "name": "python3"
  },
  "language_info": {
   "codemirror_mode": {
    "name": "ipython",
    "version": 3
   },
   "file_extension": ".py",
   "mimetype": "text/x-python",
   "name": "python",
   "nbconvert_exporter": "python",
   "pygments_lexer": "ipython3",
   "version": "3.8.10"
  }
 },
 "nbformat": 4,
 "nbformat_minor": 5
}
