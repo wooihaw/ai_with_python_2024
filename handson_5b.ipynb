{
  "cells": [
    {
      "cell_type": "markdown",
      "metadata": {
        "id": "view-in-github",
        "colab_type": "text"
      },
      "source": [
        "<a href=\"https://colab.research.google.com/github/wooihaw/ai_with_python_2024/blob/main/handson_5b.ipynb\" target=\"_parent\"><img src=\"https://colab.research.google.com/assets/colab-badge.svg\" alt=\"Open In Colab\"/></a>"
      ]
    },
    {
      "cell_type": "markdown",
      "id": "fe3262b4-a988-4258-80a5-c8ad088fbb02",
      "metadata": {
        "id": "fe3262b4-a988-4258-80a5-c8ad088fbb02"
      },
      "source": [
        "## Hands-on 5b\n",
        "### Classification of three animals (from scratch)\n",
        "#### In this example, we are going to train a CNN model from scratch for the classfication of three animals"
      ]
    },
    {
      "cell_type": "code",
      "execution_count": null,
      "id": "52a98a22-813c-496a-a117-33097c2dbed4",
      "metadata": {
        "id": "52a98a22-813c-496a-a117-33097c2dbed4"
      },
      "outputs": [],
      "source": [
        "# Create a clone of practical_ai repo\n",
        "!cd /content/\n",
        "!git clone https://github.com/wooihaw/ai_with_python_2024.git"
      ]
    },
    {
      "cell_type": "code",
      "execution_count": null,
      "id": "c9752734-3de2-46a3-b4de-d80a1ba53682",
      "metadata": {
        "id": "c9752734-3de2-46a3-b4de-d80a1ba53682"
      },
      "outputs": [],
      "source": [
        "# Mount Google Drive\n",
        "from google.colab import drive\n",
        "drive.mount('/content/drive')"
      ]
    },
    {
      "cell_type": "code",
      "execution_count": null,
      "id": "33ccf23e-d2c7-4c14-8edd-9bba4270a46d",
      "metadata": {
        "id": "33ccf23e-d2c7-4c14-8edd-9bba4270a46d"
      },
      "outputs": [],
      "source": [
        "# Extract dataset from Google Drive\n",
        "!cd /content/\n",
        "!tar -xvf /content/drive/MyDrive/three_animals.tar.gz | wc -l"
      ]
    },
    {
      "cell_type": "code",
      "execution_count": null,
      "id": "d067229c-aea3-43be-9dee-6f2ada184e20",
      "metadata": {
        "id": "d067229c-aea3-43be-9dee-6f2ada184e20"
      },
      "outputs": [],
      "source": [
        "# Load modules\n",
        "from tensorflow.keras.models import Sequential\n",
        "from tensorflow.keras.preprocessing.image import ImageDataGenerator, load_img, img_to_array\n",
        "from tensorflow.keras.layers import Conv2D, MaxPool2D, Dense, Flatten\n",
        "from sklearn.metrics import confusion_matrix\n",
        "import numpy as np\n",
        "import matplotlib.pyplot as plt\n",
        "\n",
        "# Setup training images and testing images\n",
        "train_dir = 'three_animals/train'\n",
        "test_dir = 'three_animals/validate/'\n",
        "\n",
        "train_datagen = ImageDataGenerator(\n",
        "                    rescale=1/255.,\n",
        "                    rotation_range=30,\n",
        "                    width_shift_range=0.2,\n",
        "                    height_shift_range=0.2,\n",
        "                    shear_range=0.2,\n",
        "                    zoom_range=0.2,\n",
        "                    horizontal_flip=True,\n",
        "                    fill_mode='nearest')\n",
        "\n",
        "test_datagen = ImageDataGenerator(rescale=1/255.)\n",
        "\n",
        "train_generator = train_datagen.flow_from_directory(\n",
        "                    train_dir,\n",
        "                    batch_size=32,\n",
        "                    target_size=(150,150),\n",
        "                    class_mode='categorical')\n",
        "\n",
        "test_generator = test_datagen.flow_from_directory(\n",
        "                    test_dir,\n",
        "                    batch_size=32,\n",
        "                    target_size=(150,150),\n",
        "                    class_mode='categorical',\n",
        "                    shuffle=False)"
      ]
    },
    {
      "cell_type": "code",
      "execution_count": null,
      "id": "95edff32-a8f1-4fee-8a85-fe0e2553f0e7",
      "metadata": {
        "id": "95edff32-a8f1-4fee-8a85-fe0e2553f0e7"
      },
      "outputs": [],
      "source": [
        "# Construct CNN\n",
        "model = Sequential()\n",
        "model.add(Conv2D(16, (3, 3), activation='relu', input_shape=(150, 150, 3)))\n",
        "model.add(MaxPool2D((2, 2)))\n",
        "model.add(Conv2D(32, (3, 3), activation='relu'))\n",
        "model.add(MaxPool2D((2, 2)))\n",
        "model.add(Flatten())\n",
        "model.add(Dense(512, activation='relu'))\n",
        "model.add(Dense(3, activation='softmax'))\n",
        "\n",
        "model.summary()\n",
        "\n",
        "# Compile and train model\n",
        "model.compile(loss='categorical_crossentropy', optimizer='adam', metrics=['acc'])\n",
        "\n",
        "history = model.fit(train_generator,\n",
        "                    steps_per_epoch=85,\n",
        "                    epochs=5,\n",
        "                    validation_data=test_generator,\n",
        "                    validation_steps=10,\n",
        "                    verbose=1)"
      ]
    },
    {
      "cell_type": "code",
      "execution_count": null,
      "id": "3cac6e3a-b9d9-41e4-a0a5-eee0d546aaa3",
      "metadata": {
        "id": "3cac6e3a-b9d9-41e4-a0a5-eee0d546aaa3"
      },
      "outputs": [],
      "source": [
        "# Show the confusion matrix\n",
        "pred = model.predict(test_generator)\n",
        "y_pred = np.argmax(pred, axis=1)\n",
        "cm = confusion_matrix(test_generator.classes, y_pred)\n",
        "plt.style.use('default')\n",
        "fig = plt.figure()\n",
        "ax = plt.gca()\n",
        "im = ax.matshow(cm)\n",
        "for i, j in enumerate(cm.ravel()):\n",
        "    ax.text(i%3, i//3, f'{j}', color='w', size='large', weight='bold', ha='center')\n",
        "ax.xaxis.set_ticks_position('bottom')\n",
        "ax.set_xticks(np.arange(3))\n",
        "ax.set_xticklabels(list(train_generator.class_indices))\n",
        "ax.set_yticks(np.arange(3))\n",
        "ax.set_yticklabels(list(train_generator.class_indices))\n",
        "ax.set_xlabel('Predicted label')\n",
        "ax.set_ylabel('True label')\n",
        "plt.show()"
      ]
    },
    {
      "cell_type": "code",
      "execution_count": null,
      "id": "4783497b-ded4-4c32-96a9-594094150469",
      "metadata": {
        "id": "4783497b-ded4-4c32-96a9-594094150469"
      },
      "outputs": [],
      "source": [
        "# serialize model to JSON\n",
        "model_json = model.to_json()\n",
        "with open(\"model1.json\", \"w\") as json_file:\n",
        "  json_file.write(model_json)\n",
        "# serialize weights to HDF5\n",
        "model.save_weights(\"model1.h5\")\n",
        "print(\"Saved model to disk\")\n",
        "\n",
        "from json import dump\n",
        "with open('class_indices1.json', 'w') as f:\n",
        "  dump(train_generator.class_indices, f)"
      ]
    },
    {
      "cell_type": "code",
      "execution_count": null,
      "id": "b09c5315-6518-422c-a9af-9052963df591",
      "metadata": {
        "id": "b09c5315-6518-422c-a9af-9052963df591"
      },
      "outputs": [],
      "source": [
        "# Test the trained model on a new image\n",
        "from tensorflow.keras.models import model_from_json\n",
        "from tensorflow.keras.preprocessing.image import load_img, img_to_array\n",
        "from json import load\n",
        "import numpy as np\n",
        "\n",
        "# load json and create model\n",
        "json_file = open('model1.json', 'r')\n",
        "model_json = json_file.read()\n",
        "json_file.close()\n",
        "model = model_from_json(model_json)\n",
        "# load weights into new model\n",
        "model.load_weights(\"model1.h5\")\n",
        "\n",
        "# load class indices\n",
        "with open('class_indices1.json', 'r') as f:\n",
        "    class_indices = load(f)\n",
        "print(\"Model loaded from disk\")\n",
        "map2class = {class_indices[k]:k for k in class_indices}"
      ]
    },
    {
      "cell_type": "code",
      "execution_count": null,
      "id": "48e0c078-62b9-4c7e-90fa-aefcaf1c7716",
      "metadata": {
        "id": "48e0c078-62b9-4c7e-90fa-aefcaf1c7716"
      },
      "outputs": [],
      "source": [
        "# Display the test image and show the predicted class\n",
        "file = 'ai_with_python_2024/animal01.jpg'\n",
        "img = load_img(file, target_size=(150, 150))\n",
        "x = img_to_array(img)/255.\n",
        "x = np.expand_dims(x, axis=0)\n",
        "classes = model.predict(x)\n",
        "for i, k in enumerate(class_indices):\n",
        "  print(f'{k:10}: {classes[0, i]: .3f}')\n",
        "\n",
        "plt.axis(False)\n",
        "plt.imshow(load_img(file))\n",
        "plt.title(f'Predicted as {map2class[classes.argmax()]}', y=0, pad=-10, verticalalignment=\"top\")\n",
        "plt.show()"
      ]
    },
    {
      "cell_type": "markdown",
      "id": "9e0cf50c-43ed-4e34-8a2c-20e29de4a177",
      "metadata": {
        "id": "9e0cf50c-43ed-4e34-8a2c-20e29de4a177"
      },
      "source": [
        "### Classification of three animals (with transfer learning)\n",
        "#### In this example, we are going to train a CNN model with transfer learning for the classfication of three animals"
      ]
    },
    {
      "cell_type": "code",
      "execution_count": null,
      "id": "70ce2271-641f-4447-b720-9091a9aa6968",
      "metadata": {
        "id": "70ce2271-641f-4447-b720-9091a9aa6968"
      },
      "outputs": [],
      "source": [
        "# Load modules\n",
        "import tensorflow as tf\n",
        "from tensorflow.keras.layers import Dense, Flatten, Dropout, GlobalAveragePooling2D\n",
        "from tensorflow.keras.preprocessing.image import ImageDataGenerator, load_img, img_to_array\n",
        "from tensorflow.keras.applications.inception_v3 import InceptionV3\n",
        "from tensorflow.keras import Model\n",
        "from tensorflow.keras.optimizers import RMSprop\n",
        "from sklearn.metrics import confusion_matrix\n",
        "import numpy as np\n",
        "import matplotlib.pyplot as plt\n",
        "\n",
        "# Setup training images and testing images\n",
        "train_dir = 'three_animals/train'\n",
        "test_dir = 'three_animals/validate/'\n",
        "\n",
        "train_datagen = ImageDataGenerator(\n",
        "                    rescale=1/255.,\n",
        "                    rotation_range=40,\n",
        "                    width_shift_range=0.2,\n",
        "                    height_shift_range=0.2,\n",
        "                    shear_range=0.2,\n",
        "                    zoom_range=0.2,\n",
        "                    horizontal_flip=True,\n",
        "                    fill_mode='nearest')\n",
        "\n",
        "test_datagen = ImageDataGenerator(rescale=1/255.)\n",
        "\n",
        "train_generator = train_datagen.flow_from_directory(\n",
        "                    train_dir,\n",
        "                    batch_size=32,\n",
        "                    target_size=(150,150),\n",
        "                    class_mode='categorical')\n",
        "\n",
        "test_generator = test_datagen.flow_from_directory(\n",
        "                    test_dir,\n",
        "                    batch_size=32,\n",
        "                    target_size=(150,150),\n",
        "                    class_mode='categorical',\n",
        "                    shuffle=False)"
      ]
    },
    {
      "cell_type": "code",
      "execution_count": null,
      "id": "a50432c1-2e4b-4846-a313-9d243f3ee94a",
      "metadata": {
        "id": "a50432c1-2e4b-4846-a313-9d243f3ee94a"
      },
      "outputs": [],
      "source": [
        "# Import the inception mode, do not include the fully-connected layer at the top as the last layer of the network\n",
        "base_model = InceptionV3(input_shape=(150, 150, 3), include_top=False, weights='imagenet')\n",
        "\n",
        "# Make all the layers in the pre-trained model non-trainable\n",
        "for layer in base_model.layers:\n",
        "    layer.trainable = False\n",
        "\n",
        "last_layer = base_model.get_layer('mixed7')\n",
        "print('last layer output shape: ', last_layer.output_shape)\n",
        "last_output = last_layer.output\n",
        "\n",
        "# Applies average pooling on the spatial dimensions until each spatial dimension is one\n",
        "x = GlobalAveragePooling2D()(last_output)\n",
        "# Add a fully connected layer with 1024 hidden units and ReLU activation\n",
        "x = Dense(512, activation='relu')(x)\n",
        "# Add a dropout rate of 0.2\n",
        "x = Dropout(0.2)(x)\n",
        "# Add a final sigmoid layer for classification\n",
        "x = Dense(3, activation='softmax')(x)\n",
        "\n",
        "model = Model(base_model.input, x)\n",
        "\n",
        "model.compile(optimizer ='rmsprop',\n",
        "              loss = 'categorical_crossentropy',\n",
        "              metrics = ['acc'])\n",
        "\n",
        "# Calculate the number of layers\n",
        "num_layers = len(model.layers)\n",
        "\n",
        "# Calculate the total number of parameters\n",
        "total_params = model.count_params()\n",
        "\n",
        "print(f'Number of layers: {num_layers}')\n",
        "print(f'Total parameters to learn: {total_params}')\n",
        "\n",
        "history = model.fit(train_generator,\n",
        "                    steps_per_epoch=85,\n",
        "                    epochs=3,\n",
        "                    validation_data=test_generator,\n",
        "                    validation_steps=10,\n",
        "                    verbose=1)"
      ]
    },
    {
      "cell_type": "code",
      "execution_count": null,
      "id": "08aec601-27a7-4d69-ae45-8ebb8545853a",
      "metadata": {
        "id": "08aec601-27a7-4d69-ae45-8ebb8545853a"
      },
      "outputs": [],
      "source": [
        "# Show the confusion matrix\n",
        "pred = model.predict(test_generator)\n",
        "y_pred = np.argmax(pred, axis=1)\n",
        "cm = confusion_matrix(test_generator.classes, y_pred)\n",
        "plt.style.use('default')\n",
        "fig = plt.figure()\n",
        "ax = plt.gca()\n",
        "im = ax.matshow(cm)\n",
        "for i, j in enumerate(cm.ravel()):\n",
        "    ax.text(i%3, i//3, f'{j}', color='w', size='large', weight='bold', ha='center')\n",
        "ax.xaxis.set_ticks_position('bottom')\n",
        "ax.set_xticks(np.arange(3))\n",
        "ax.set_xticklabels(list(train_generator.class_indices))\n",
        "ax.set_yticks(np.arange(3))\n",
        "ax.set_yticklabels(list(train_generator.class_indices))\n",
        "ax.set_xlabel('Predicted label')\n",
        "ax.set_ylabel('True label')\n",
        "plt.show()"
      ]
    },
    {
      "cell_type": "code",
      "execution_count": null,
      "id": "e7bc8c4c-938c-41ed-b078-22d690007ce9",
      "metadata": {
        "id": "e7bc8c4c-938c-41ed-b078-22d690007ce9"
      },
      "outputs": [],
      "source": [
        "# serialize model to JSON\n",
        "model_json = model.to_json()\n",
        "with open(\"model2.json\", \"w\") as json_file:\n",
        "  json_file.write(model_json)\n",
        "# serialize weights to HDF5\n",
        "model.save_weights(\"model2.h5\")\n",
        "print(\"Saved model to disk\")\n",
        "\n",
        "from json import dump\n",
        "with open('class_indices2.json', 'w') as f:\n",
        "  dump(train_generator.class_indices, f)"
      ]
    },
    {
      "cell_type": "code",
      "execution_count": null,
      "id": "724f4b4f-6382-44e6-b3d1-732c70b8a1da",
      "metadata": {
        "id": "724f4b4f-6382-44e6-b3d1-732c70b8a1da"
      },
      "outputs": [],
      "source": [
        "# Test the trained model on a new image\n",
        "from tensorflow.keras.models import model_from_json\n",
        "from tensorflow.keras.preprocessing.image import load_img, img_to_array\n",
        "from json import load\n",
        "import numpy as np\n",
        "\n",
        "# load json and create model\n",
        "json_file = open('model2.json', 'r')\n",
        "model_json = json_file.read()\n",
        "json_file.close()\n",
        "model = model_from_json(model_json)\n",
        "# load weights into new model\n",
        "model.load_weights(\"model2.h5\")\n",
        "\n",
        "# load class indices\n",
        "with open('class_indices2.json', 'r') as f:\n",
        "    class_indices = load(f)\n",
        "print(\"Model loaded from disk\")\n",
        "map2class = {class_indices[k]:k for k in class_indices}"
      ]
    },
    {
      "cell_type": "code",
      "execution_count": null,
      "id": "da2c7cf7-2f2c-452b-aa00-7a63f9b9ab80",
      "metadata": {
        "id": "da2c7cf7-2f2c-452b-aa00-7a63f9b9ab80"
      },
      "outputs": [],
      "source": [
        "# Display the test image and show the predicted class\n",
        "file = 'ai_with_python_2024/animal01.jpg'\n",
        "img = load_img(file, target_size=(150, 150))\n",
        "x = img_to_array(img)/255.\n",
        "x = np.expand_dims(x, axis=0)\n",
        "classes = model.predict(x)\n",
        "for i, k in enumerate(class_indices):\n",
        "  print(f'{k:10}: {classes[0, i]: .3f}')\n",
        "\n",
        "plt.axis(False)\n",
        "plt.imshow(load_img(file))\n",
        "plt.title(f'Predicted as {map2class[classes.argmax()]}', y=0, pad=-10, verticalalignment=\"top\")\n",
        "plt.show()"
      ]
    }
  ],
  "metadata": {
    "kernelspec": {
      "display_name": "Python 3",
      "name": "python3"
    },
    "language_info": {
      "codemirror_mode": {
        "name": "ipython",
        "version": 3
      },
      "file_extension": ".py",
      "mimetype": "text/x-python",
      "name": "python",
      "nbconvert_exporter": "python",
      "pygments_lexer": "ipython3",
      "version": "3.8.10"
    },
    "colab": {
      "provenance": [],
      "gpuType": "T4",
      "include_colab_link": true
    },
    "accelerator": "GPU"
  },
  "nbformat": 4,
  "nbformat_minor": 5
}