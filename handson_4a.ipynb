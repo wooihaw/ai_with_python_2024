{
 "cells": [
  {
   "cell_type": "markdown",
   "id": "0fb15b3f-9514-4376-aeb0-5b45c041226a",
   "metadata": {},
   "source": [
    "## Hands-on 4a\n",
    "#### Use the preprocessed data from Hands-on 3a for income classification using k-Nearest Neighbors algorithm"
   ]
  },
  {
   "cell_type": "code",
   "execution_count": null,
   "id": "414f5668-8e05-49ef-9b62-a077e1a5dd37",
   "metadata": {},
   "outputs": [],
   "source": [
    "# Load dataset from csv file and show the first 5 rows of data\n",
    "df = pd.read_csv(\"https://raw.githubusercontent.com/wooihaw/ai_with_python_2024/main/income_processed.csv\")\n",
    "df.head()"
   ]
  },
  {
   "cell_type": "markdown",
   "id": "806f08a5-aa7e-4dc6-8f25-6c757d43992f",
   "metadata": {},
   "source": [
    "**To do:**\n",
    "- Use the processed dataset to train and evaluate a k-Nearest Neighbors model"
   ]
  },
  {
   "cell_type": "code",
   "execution_count": null,
   "id": "38ea00bb-6f70-4624-83ef-bc8acbd4db3f",
   "metadata": {},
   "outputs": [],
   "source": []
  }
 ],
 "metadata": {
  "kernelspec": {
   "display_name": "Python 3",
   "language": "python",
   "name": "python3"
  },
  "language_info": {
   "codemirror_mode": {
    "name": "ipython",
    "version": 3
   },
   "file_extension": ".py",
   "mimetype": "text/x-python",
   "name": "python",
   "nbconvert_exporter": "python",
   "pygments_lexer": "ipython3",
   "version": "3.8.10"
  }
 },
 "nbformat": 4,
 "nbformat_minor": 5
}
