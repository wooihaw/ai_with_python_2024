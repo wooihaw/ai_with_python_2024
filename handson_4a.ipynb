{
  "cells": [
    {
      "cell_type": "markdown",
      "metadata": {
        "id": "view-in-github",
        "colab_type": "text"
      },
      "source": [
        "<a href=\"https://colab.research.google.com/github/wooihaw/ai_with_python_2024/blob/main/handson_4a.ipynb\" target=\"_parent\"><img src=\"https://colab.research.google.com/assets/colab-badge.svg\" alt=\"Open In Colab\"/></a>"
      ]
    },
    {
      "cell_type": "markdown",
      "id": "0fb15b3f-9514-4376-aeb0-5b45c041226a",
      "metadata": {
        "id": "0fb15b3f-9514-4376-aeb0-5b45c041226a"
      },
      "source": [
        "## Hands-on 4a\n",
        "#### Use the preprocessed data from Hands-on 3a for income classification using k-Nearest Neighbors algorithm"
      ]
    },
    {
      "cell_type": "code",
      "source": [
        "# Import libraries\n",
        "from sklearn.model_selection import train_test_split as split\n",
        "from sklearn.neighbors import KNeighborsClassifier\n",
        "import pandas as pd"
      ],
      "metadata": {
        "id": "l3Im0gGSaL9j"
      },
      "id": "l3Im0gGSaL9j",
      "execution_count": null,
      "outputs": []
    },
    {
      "cell_type": "code",
      "execution_count": null,
      "id": "414f5668-8e05-49ef-9b62-a077e1a5dd37",
      "metadata": {
        "id": "414f5668-8e05-49ef-9b62-a077e1a5dd37"
      },
      "outputs": [],
      "source": [
        "# Load dataset from csv file and show the first 5 rows of data\n",
        "df = pd.read_csv(\"https://raw.githubusercontent.com/wooihaw/ai_with_python_2024/main/income_processed.csv\")\n",
        "df.head()"
      ]
    },
    {
      "cell_type": "markdown",
      "id": "806f08a5-aa7e-4dc6-8f25-6c757d43992f",
      "metadata": {
        "id": "806f08a5-aa7e-4dc6-8f25-6c757d43992f"
      },
      "source": [
        "**To do:**\n",
        "- Separate the dataset into fatures (X) and targets (y)\n",
        "- Split the features and targets into train (75%) and test sets (25%)\n",
        "- Use the processed dataset to train and evaluate a k-Nearest Neighbors model"
      ]
    },
    {
      "cell_type": "code",
      "execution_count": null,
      "id": "38ea00bb-6f70-4624-83ef-bc8acbd4db3f",
      "metadata": {
        "id": "38ea00bb-6f70-4624-83ef-bc8acbd4db3f"
      },
      "outputs": [],
      "source": []
    }
  ],
  "metadata": {
    "kernelspec": {
      "display_name": "Python 3",
      "language": "python",
      "name": "python3"
    },
    "language_info": {
      "codemirror_mode": {
        "name": "ipython",
        "version": 3
      },
      "file_extension": ".py",
      "mimetype": "text/x-python",
      "name": "python",
      "nbconvert_exporter": "python",
      "pygments_lexer": "ipython3",
      "version": "3.8.10"
    },
    "colab": {
      "provenance": [],
      "include_colab_link": true
    }
  },
  "nbformat": 4,
  "nbformat_minor": 5
}